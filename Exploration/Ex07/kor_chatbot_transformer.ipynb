{
 "cells": [
  {
   "cell_type": "markdown",
   "id": "35b7feb0",
   "metadata": {},
   "source": [
    "\n",
    "# 🇰🇷 한국어 챗봇 (Transformer, SentencePiece) — End-to-End 노트북\n",
    "\n",
    "**학습 목표**\n",
    "- 한국어 전처리를 통해 학습 데이터셋을 구축한다.\n",
    "- 공백·특수문자 처리, 토크나이징, 병렬 데이터(Q/A) 구축을 적절히 수행한다.\n",
    "- 트랜스포머 모델을 구현하여 한국어 챗봇 모델을 학습한다.\n",
    "- 구현한 모델이 안정적으로 수렴하도록 학습 루프/스케줄러/정규화를 적용한다.\n",
    "- 한국어 입력 문장에 대해 한국어로 답변하는 함수를 구현한다.\n",
    "- 입력 문맥에 맞는 한국어 답변을 리턴하도록 디코딩을 제공한다.\n",
    "\n",
    "**평가 기준 체크리스트**\n",
    "- [ ] 전처리: 공백·특수문자 정리, 반복문자 축약, 길이/중복 필터\n",
    "- [ ] 토크나이징: SentencePiece(unigram) 학습 및 적용\n",
    "- [ ] 병렬데이터 구축: (Q, A) 페어 분할(train/valid/test)\n",
    "- [ ] 모델: nn.Transformer 기반 seq2seq, Label Smoothing, Gradient Clip\n",
    "- [ ] 수렴: Noam warmup 스케줄러, 검증 Perplexity 모니터링(Plot 포함)\n",
    "- [ ] 추론: Greedy & Top-k/Top-p 디코딩 함수 (한국어 입력 → 한국어 출력)\n"
   ]
  },
  {
   "cell_type": "markdown",
   "id": "a8ae88a8",
   "metadata": {},
   "source": [
    "## 셀 0 — 필수 라이브러리 설치"
   ]
  },
  {
   "cell_type": "code",
   "execution_count": null,
   "id": "f7c2b9db",
   "metadata": {},
   "outputs": [],
   "source": [
    "\n",
    "!pip install -q torch torchvision torchaudio sentencepiece pandas scikit-learn tqdm numpy\n"
   ]
  },
  {
   "cell_type": "markdown",
   "id": "00a6f6cc",
   "metadata": {},
   "source": [
    "# Step1 기본 import & 설정"
   ]
  },
  {
   "cell_type": "code",
   "execution_count": 30,
   "id": "3666af9c-4b4e-4834-a4c8-d31e32d1a39e",
   "metadata": {},
   "outputs": [
    {
     "name": "stdout",
     "output_type": "stream",
     "text": [
      "DEVICE: cuda | torch: 2.7.1+cu118\n"
     ]
    }
   ],
   "source": [
    "# =========================================================\n",
    "# 한국어 챗봇 학습 파이프라인 (SentencePiece + Transformer)\n",
    "# =========================================================\n",
    "import os, re, math, time, unicodedata, random, glob\n",
    "import numpy as np, pandas as pd\n",
    "from sklearn.model_selection import train_test_split\n",
    "from tqdm import tqdm\n",
    "import matplotlib.pyplot as plt\n",
    "\n",
    "import torch, torch.nn as nn\n",
    "from torch.utils.data import Dataset, DataLoader\n",
    "import torch.nn.functional as F\n",
    "import sentencepiece as spm\n",
    "\n",
    "# --------- 0) 설정/시드 ----------\n",
    "SEED = 42\n",
    "random.seed(SEED); np.random.seed(SEED); torch.manual_seed(SEED)\n",
    "if torch.cuda.is_available(): torch.cuda.manual_seed_all(SEED)\n",
    "DEVICE = \"cuda\" if torch.cuda.is_available() else \"cpu\"\n",
    "print(\"DEVICE:\", DEVICE, \"| torch:\", torch.__version__)"
   ]
  },
  {
   "cell_type": "markdown",
   "id": "7f978acf",
   "metadata": {},
   "source": [
    "# Step 2: 데이터 전처리"
   ]
  },
  {
   "cell_type": "code",
   "execution_count": 33,
   "id": "bc9a9cec",
   "metadata": {},
   "outputs": [
    {
     "name": "stdout",
     "output_type": "stream",
     "text": [
      "train=9392, valid=1174, test=1174\n"
     ]
    }
   ],
   "source": [
    "# --------- 1) 데이터 전처리 ----------\n",
    "DATA_CSV = \"data/ChatbotData.csv\"\n",
    "assert os.path.exists(DATA_CSV), f\"'{DATA_CSV}' 없음. 경로 확인.\"\n",
    "\n",
    "def normalize_text(s: str) -> str:\n",
    "    if not isinstance(s, str): return \"\"\n",
    "    s = unicodedata.normalize(\"NFKC\", s).strip()\n",
    "    s = re.sub(r'ㅋ{2,}', 'ㅋㅋ', s); s = re.sub(r'ㅎ{2,}', 'ㅎㅎ', s)\n",
    "    s = re.sub(r'!{2,}', '!!', s);  s = re.sub(r'\\?{2,}', '??', s)\n",
    "    s = re.sub(r'[\\s\\u200b]+', ' ', s)\n",
    "    return s\n",
    "\n",
    "df = pd.read_csv(DATA_CSV)[[\"Q\",\"A\"]].dropna().copy()\n",
    "df[\"Q\"] = df[\"Q\"].apply(normalize_text)\n",
    "df[\"A\"] = df[\"A\"].apply(normalize_text)\n",
    "df = df[(df[\"Q\"].str.len().between(2,128)) & (df[\"A\"].str.len().between(2,128))]\n",
    "df = df.drop_duplicates([\"Q\",\"A\"]).reset_index(drop=True)\n",
    "\n",
    "train_df, tmp_df = train_test_split(df, test_size=0.2, random_state=SEED, shuffle=True)\n",
    "valid_df, test_df = train_test_split(tmp_df, test_size=0.5, random_state=SEED, shuffle=True)\n",
    "\n",
    "with open(\"corpus.txt\",\"w\",encoding=\"utf-8\") as f:\n",
    "    for s in pd.concat([train_df[\"Q\"], train_df[\"A\"]], axis=0).tolist():\n",
    "        if s: f.write(s+\"\\n\")\n",
    "\n",
    "train_df.to_csv(\"train_pairs.csv\", index=False)\n",
    "valid_df.to_csv(\"valid_pairs.csv\", index=False)\n",
    "test_df.to_csv(\"test_pairs.csv\", index=False)\n",
    "print(f\"train={len(train_df)}, valid={len(valid_df)}, test={len(test_df)}\")"
   ]
  },
  {
   "cell_type": "markdown",
   "id": "a051a4e9",
   "metadata": {},
   "source": [
    "# Step 3: SentencePiece 학습 (vocab_size 자동 조정)"
   ]
  },
  {
   "cell_type": "code",
   "execution_count": 34,
   "id": "e5ff1508",
   "metadata": {},
   "outputs": [
    {
     "name": "stdout",
     "output_type": "stream",
     "text": [
      "[SPM] vocab_size=16000\n",
      "  fail: Internal: src/trainer_interface.cc(664) [(trainer_spec_.vocab_size()) == (model_proto->pieces_size())] Vocabulary size too high (16000). Please set it to a value <= 8827.\n",
      "[SPM] vocab_size=12000\n",
      "  fail: Internal: src/trainer_interface.cc(664) [(trainer_spec_.vocab_size()) == (model_proto->pieces_size())] Vocabulary size too high (12000). Please set it to a value <= 8827.\n",
      "[SPM] vocab_size=10000\n",
      "  fail: Internal: src/trainer_interface.cc(664) [(trainer_spec_.vocab_size()) == (model_proto->pieces_size())] Vocabulary size too high (10000). Please set it to a value <= 8827.\n",
      "[SPM] vocab_size=8000\n",
      "IDs: {'PAD': 0, 'UNK': 1, 'BOS': 2, 'EOS': 3} | VOCAB: 8000\n"
     ]
    },
    {
     "name": "stderr",
     "output_type": "stream",
     "text": [
      "sentencepiece_trainer.cc(78) LOG(INFO) Starts training with : \n",
      "trainer_spec {\n",
      "  input: corpus.txt\n",
      "  input_format: \n",
      "  model_prefix: spm_kor\n",
      "  model_type: UNIGRAM\n",
      "  vocab_size: 16000\n",
      "  self_test_sample_size: 0\n",
      "  character_coverage: 0.9995\n",
      "  input_sentence_size: 1000000\n",
      "  shuffle_input_sentence: 1\n",
      "  seed_sentencepiece_size: 1000000\n",
      "  shrinking_factor: 0.75\n",
      "  max_sentence_length: 4192\n",
      "  num_threads: 16\n",
      "  num_sub_iterations: 2\n",
      "  max_sentencepiece_length: 16\n",
      "  split_by_unicode_script: 1\n",
      "  split_by_number: 1\n",
      "  split_by_whitespace: 1\n",
      "  split_digits: 0\n",
      "  pretokenization_delimiter: \n",
      "  treat_whitespace_as_suffix: 0\n",
      "  allow_whitespace_only_pieces: 0\n",
      "  user_defined_symbols: <usr>\n",
      "  user_defined_symbols: <sys>\n",
      "  user_defined_symbols: <sep>\n",
      "  required_chars: \n",
      "  byte_fallback: 0\n",
      "  vocabulary_output_piece_score: 1\n",
      "  train_extremely_large_corpus: 0\n",
      "  seed_sentencepieces_file: \n",
      "  hard_vocab_limit: 1\n",
      "  use_all_vocab: 0\n",
      "  unk_id: 1\n",
      "  bos_id: 2\n",
      "  eos_id: 3\n",
      "  pad_id: 0\n",
      "  unk_piece: <unk>\n",
      "  bos_piece: <s>\n",
      "  eos_piece: </s>\n",
      "  pad_piece: <pad>\n",
      "  unk_surface:  ⁇ \n",
      "  enable_differential_privacy: 0\n",
      "  differential_privacy_noise_level: 0\n",
      "  differential_privacy_clipping_threshold: 0\n",
      "}\n",
      "normalizer_spec {\n",
      "  name: nmt_nfkc\n",
      "  add_dummy_prefix: 1\n",
      "  remove_extra_whitespaces: 1\n",
      "  escape_whitespaces: 1\n",
      "  normalization_rule_tsv: \n",
      "}\n",
      "denormalizer_spec {}\n",
      "trainer_interface.cc(355) LOG(INFO) SentenceIterator is not specified. Using MultiFileSentenceIterator.\n",
      "trainer_interface.cc(186) LOG(INFO) Loading corpus: corpus.txt\n",
      "trainer_interface.cc(411) LOG(INFO) Loaded all 18784 sentences\n",
      "trainer_interface.cc(427) LOG(INFO) Adding meta_piece: <pad>\n",
      "trainer_interface.cc(427) LOG(INFO) Adding meta_piece: <unk>\n",
      "trainer_interface.cc(427) LOG(INFO) Adding meta_piece: <s>\n",
      "trainer_interface.cc(427) LOG(INFO) Adding meta_piece: </s>\n",
      "trainer_interface.cc(427) LOG(INFO) Adding meta_piece: <usr>\n",
      "trainer_interface.cc(427) LOG(INFO) Adding meta_piece: <sys>\n",
      "trainer_interface.cc(427) LOG(INFO) Adding meta_piece: <sep>\n",
      "trainer_interface.cc(432) LOG(INFO) Normalizing sentences...\n",
      "trainer_interface.cc(541) LOG(INFO) all chars count=280422\n",
      "trainer_interface.cc(552) LOG(INFO) Done: 99.9501% characters are covered.\n",
      "trainer_interface.cc(562) LOG(INFO) Alphabet size=1066\n",
      "trainer_interface.cc(563) LOG(INFO) Final character coverage=0.999501\n",
      "trainer_interface.cc(594) LOG(INFO) Done! preprocessed 18784 sentences.\n",
      "unigram_model_trainer.cc(265) LOG(INFO) Making suffix array...\n",
      "unigram_model_trainer.cc(269) LOG(INFO) Extracting frequent sub strings... node_num=122480\n",
      "unigram_model_trainer.cc(312) LOG(INFO) Initialized 16468 seed sentencepieces\n",
      "trainer_interface.cc(600) LOG(INFO) Tokenizing input sentences with whitespace: 18784\n",
      "trainer_interface.cc(611) LOG(INFO) Done! 19128\n",
      "unigram_model_trainer.cc(602) LOG(INFO) Using 19128 sentences for EM training\n",
      "unigram_model_trainer.cc(618) LOG(INFO) EM sub_iter=0 size=9597 obj=13.3156 num_tokens=41007 num_tokens/piece=4.2729\n",
      "unigram_model_trainer.cc(618) LOG(INFO) EM sub_iter=1 size=8508 obj=12.2298 num_tokens=41099 num_tokens/piece=4.83063\n",
      "trainer_interface.cc(689) LOG(INFO) Saving model: spm_kor.model\n",
      "sentencepiece_trainer.cc(78) LOG(INFO) Starts training with : \n",
      "trainer_spec {\n",
      "  input: corpus.txt\n",
      "  input_format: \n",
      "  model_prefix: spm_kor\n",
      "  model_type: UNIGRAM\n",
      "  vocab_size: 12000\n",
      "  self_test_sample_size: 0\n",
      "  character_coverage: 0.9995\n",
      "  input_sentence_size: 1000000\n",
      "  shuffle_input_sentence: 1\n",
      "  seed_sentencepiece_size: 1000000\n",
      "  shrinking_factor: 0.75\n",
      "  max_sentence_length: 4192\n",
      "  num_threads: 16\n",
      "  num_sub_iterations: 2\n",
      "  max_sentencepiece_length: 16\n",
      "  split_by_unicode_script: 1\n",
      "  split_by_number: 1\n",
      "  split_by_whitespace: 1\n",
      "  split_digits: 0\n",
      "  pretokenization_delimiter: \n",
      "  treat_whitespace_as_suffix: 0\n",
      "  allow_whitespace_only_pieces: 0\n",
      "  user_defined_symbols: <usr>\n",
      "  user_defined_symbols: <sys>\n",
      "  user_defined_symbols: <sep>\n",
      "  required_chars: \n",
      "  byte_fallback: 0\n",
      "  vocabulary_output_piece_score: 1\n",
      "  train_extremely_large_corpus: 0\n",
      "  seed_sentencepieces_file: \n",
      "  hard_vocab_limit: 1\n",
      "  use_all_vocab: 0\n",
      "  unk_id: 1\n",
      "  bos_id: 2\n",
      "  eos_id: 3\n",
      "  pad_id: 0\n",
      "  unk_piece: <unk>\n",
      "  bos_piece: <s>\n",
      "  eos_piece: </s>\n",
      "  pad_piece: <pad>\n",
      "  unk_surface:  ⁇ \n",
      "  enable_differential_privacy: 0\n",
      "  differential_privacy_noise_level: 0\n",
      "  differential_privacy_clipping_threshold: 0\n",
      "}\n",
      "normalizer_spec {\n",
      "  name: nmt_nfkc\n",
      "  add_dummy_prefix: 1\n",
      "  remove_extra_whitespaces: 1\n",
      "  escape_whitespaces: 1\n",
      "  normalization_rule_tsv: \n",
      "}\n",
      "denormalizer_spec {}\n",
      "trainer_interface.cc(355) LOG(INFO) SentenceIterator is not specified. Using MultiFileSentenceIterator.\n",
      "trainer_interface.cc(186) LOG(INFO) Loading corpus: corpus.txt\n",
      "trainer_interface.cc(411) LOG(INFO) Loaded all 18784 sentences\n",
      "trainer_interface.cc(427) LOG(INFO) Adding meta_piece: <pad>\n",
      "trainer_interface.cc(427) LOG(INFO) Adding meta_piece: <unk>\n",
      "trainer_interface.cc(427) LOG(INFO) Adding meta_piece: <s>\n",
      "trainer_interface.cc(427) LOG(INFO) Adding meta_piece: </s>\n",
      "trainer_interface.cc(427) LOG(INFO) Adding meta_piece: <usr>\n",
      "trainer_interface.cc(427) LOG(INFO) Adding meta_piece: <sys>\n",
      "trainer_interface.cc(427) LOG(INFO) Adding meta_piece: <sep>\n",
      "trainer_interface.cc(432) LOG(INFO) Normalizing sentences...\n",
      "trainer_interface.cc(541) LOG(INFO) all chars count=280422\n",
      "trainer_interface.cc(552) LOG(INFO) Done: 99.9501% characters are covered.\n",
      "trainer_interface.cc(562) LOG(INFO) Alphabet size=1066\n",
      "trainer_interface.cc(563) LOG(INFO) Final character coverage=0.999501\n",
      "trainer_interface.cc(594) LOG(INFO) Done! preprocessed 18784 sentences.\n",
      "unigram_model_trainer.cc(265) LOG(INFO) Making suffix array...\n",
      "unigram_model_trainer.cc(269) LOG(INFO) Extracting frequent sub strings... node_num=122480\n",
      "unigram_model_trainer.cc(312) LOG(INFO) Initialized 16468 seed sentencepieces\n",
      "trainer_interface.cc(600) LOG(INFO) Tokenizing input sentences with whitespace: 18784\n",
      "trainer_interface.cc(611) LOG(INFO) Done! 19128\n",
      "unigram_model_trainer.cc(602) LOG(INFO) Using 19128 sentences for EM training\n",
      "unigram_model_trainer.cc(618) LOG(INFO) EM sub_iter=0 size=9597 obj=13.3156 num_tokens=41007 num_tokens/piece=4.2729\n",
      "unigram_model_trainer.cc(618) LOG(INFO) EM sub_iter=1 size=8508 obj=12.2298 num_tokens=41099 num_tokens/piece=4.83063\n",
      "trainer_interface.cc(689) LOG(INFO) Saving model: spm_kor.model\n",
      "sentencepiece_trainer.cc(78) LOG(INFO) Starts training with : \n",
      "trainer_spec {\n",
      "  input: corpus.txt\n",
      "  input_format: \n",
      "  model_prefix: spm_kor\n",
      "  model_type: UNIGRAM\n",
      "  vocab_size: 10000\n",
      "  self_test_sample_size: 0\n",
      "  character_coverage: 0.9995\n",
      "  input_sentence_size: 1000000\n",
      "  shuffle_input_sentence: 1\n",
      "  seed_sentencepiece_size: 1000000\n",
      "  shrinking_factor: 0.75\n",
      "  max_sentence_length: 4192\n",
      "  num_threads: 16\n",
      "  num_sub_iterations: 2\n",
      "  max_sentencepiece_length: 16\n",
      "  split_by_unicode_script: 1\n",
      "  split_by_number: 1\n",
      "  split_by_whitespace: 1\n",
      "  split_digits: 0\n",
      "  pretokenization_delimiter: \n",
      "  treat_whitespace_as_suffix: 0\n",
      "  allow_whitespace_only_pieces: 0\n",
      "  user_defined_symbols: <usr>\n",
      "  user_defined_symbols: <sys>\n",
      "  user_defined_symbols: <sep>\n",
      "  required_chars: \n",
      "  byte_fallback: 0\n",
      "  vocabulary_output_piece_score: 1\n",
      "  train_extremely_large_corpus: 0\n",
      "  seed_sentencepieces_file: \n",
      "  hard_vocab_limit: 1\n",
      "  use_all_vocab: 0\n",
      "  unk_id: 1\n",
      "  bos_id: 2\n",
      "  eos_id: 3\n",
      "  pad_id: 0\n",
      "  unk_piece: <unk>\n",
      "  bos_piece: <s>\n",
      "  eos_piece: </s>\n",
      "  pad_piece: <pad>\n",
      "  unk_surface:  ⁇ \n",
      "  enable_differential_privacy: 0\n",
      "  differential_privacy_noise_level: 0\n",
      "  differential_privacy_clipping_threshold: 0\n",
      "}\n",
      "normalizer_spec {\n",
      "  name: nmt_nfkc\n",
      "  add_dummy_prefix: 1\n",
      "  remove_extra_whitespaces: 1\n",
      "  escape_whitespaces: 1\n",
      "  normalization_rule_tsv: \n",
      "}\n",
      "denormalizer_spec {}\n",
      "trainer_interface.cc(355) LOG(INFO) SentenceIterator is not specified. Using MultiFileSentenceIterator.\n",
      "trainer_interface.cc(186) LOG(INFO) Loading corpus: corpus.txt\n",
      "trainer_interface.cc(411) LOG(INFO) Loaded all 18784 sentences\n",
      "trainer_interface.cc(427) LOG(INFO) Adding meta_piece: <pad>\n",
      "trainer_interface.cc(427) LOG(INFO) Adding meta_piece: <unk>\n",
      "trainer_interface.cc(427) LOG(INFO) Adding meta_piece: <s>\n",
      "trainer_interface.cc(427) LOG(INFO) Adding meta_piece: </s>\n",
      "trainer_interface.cc(427) LOG(INFO) Adding meta_piece: <usr>\n",
      "trainer_interface.cc(427) LOG(INFO) Adding meta_piece: <sys>\n",
      "trainer_interface.cc(427) LOG(INFO) Adding meta_piece: <sep>\n",
      "trainer_interface.cc(432) LOG(INFO) Normalizing sentences...\n",
      "trainer_interface.cc(541) LOG(INFO) all chars count=280422\n",
      "trainer_interface.cc(552) LOG(INFO) Done: 99.9501% characters are covered.\n",
      "trainer_interface.cc(562) LOG(INFO) Alphabet size=1066\n",
      "trainer_interface.cc(563) LOG(INFO) Final character coverage=0.999501\n",
      "trainer_interface.cc(594) LOG(INFO) Done! preprocessed 18784 sentences.\n",
      "unigram_model_trainer.cc(265) LOG(INFO) Making suffix array...\n",
      "unigram_model_trainer.cc(269) LOG(INFO) Extracting frequent sub strings... node_num=122480\n",
      "unigram_model_trainer.cc(312) LOG(INFO) Initialized 16468 seed sentencepieces\n",
      "trainer_interface.cc(600) LOG(INFO) Tokenizing input sentences with whitespace: 18784\n",
      "trainer_interface.cc(611) LOG(INFO) Done! 19128\n",
      "unigram_model_trainer.cc(602) LOG(INFO) Using 19128 sentences for EM training\n",
      "unigram_model_trainer.cc(618) LOG(INFO) EM sub_iter=0 size=9597 obj=13.3156 num_tokens=41007 num_tokens/piece=4.2729\n",
      "unigram_model_trainer.cc(618) LOG(INFO) EM sub_iter=1 size=8508 obj=12.2298 num_tokens=41099 num_tokens/piece=4.83063\n",
      "trainer_interface.cc(689) LOG(INFO) Saving model: spm_kor.model\n",
      "sentencepiece_trainer.cc(78) LOG(INFO) Starts training with : \n",
      "trainer_spec {\n",
      "  input: corpus.txt\n",
      "  input_format: \n",
      "  model_prefix: spm_kor\n",
      "  model_type: UNIGRAM\n",
      "  vocab_size: 8000\n",
      "  self_test_sample_size: 0\n",
      "  character_coverage: 0.9995\n",
      "  input_sentence_size: 1000000\n",
      "  shuffle_input_sentence: 1\n",
      "  seed_sentencepiece_size: 1000000\n",
      "  shrinking_factor: 0.75\n",
      "  max_sentence_length: 4192\n",
      "  num_threads: 16\n",
      "  num_sub_iterations: 2\n",
      "  max_sentencepiece_length: 16\n",
      "  split_by_unicode_script: 1\n",
      "  split_by_number: 1\n",
      "  split_by_whitespace: 1\n",
      "  split_digits: 0\n",
      "  pretokenization_delimiter: \n",
      "  treat_whitespace_as_suffix: 0\n",
      "  allow_whitespace_only_pieces: 0\n",
      "  user_defined_symbols: <usr>\n",
      "  user_defined_symbols: <sys>\n",
      "  user_defined_symbols: <sep>\n",
      "  required_chars: \n",
      "  byte_fallback: 0\n",
      "  vocabulary_output_piece_score: 1\n",
      "  train_extremely_large_corpus: 0\n",
      "  seed_sentencepieces_file: \n",
      "  hard_vocab_limit: 1\n",
      "  use_all_vocab: 0\n",
      "  unk_id: 1\n",
      "  bos_id: 2\n",
      "  eos_id: 3\n",
      "  pad_id: 0\n",
      "  unk_piece: <unk>\n",
      "  bos_piece: <s>\n",
      "  eos_piece: </s>\n",
      "  pad_piece: <pad>\n",
      "  unk_surface:  ⁇ \n",
      "  enable_differential_privacy: 0\n",
      "  differential_privacy_noise_level: 0\n",
      "  differential_privacy_clipping_threshold: 0\n",
      "}\n",
      "normalizer_spec {\n",
      "  name: nmt_nfkc\n",
      "  add_dummy_prefix: 1\n",
      "  remove_extra_whitespaces: 1\n",
      "  escape_whitespaces: 1\n",
      "  normalization_rule_tsv: \n",
      "}\n",
      "denormalizer_spec {}\n",
      "trainer_interface.cc(355) LOG(INFO) SentenceIterator is not specified. Using MultiFileSentenceIterator.\n",
      "trainer_interface.cc(186) LOG(INFO) Loading corpus: corpus.txt\n",
      "trainer_interface.cc(411) LOG(INFO) Loaded all 18784 sentences\n",
      "trainer_interface.cc(427) LOG(INFO) Adding meta_piece: <pad>\n",
      "trainer_interface.cc(427) LOG(INFO) Adding meta_piece: <unk>\n",
      "trainer_interface.cc(427) LOG(INFO) Adding meta_piece: <s>\n",
      "trainer_interface.cc(427) LOG(INFO) Adding meta_piece: </s>\n",
      "trainer_interface.cc(427) LOG(INFO) Adding meta_piece: <usr>\n",
      "trainer_interface.cc(427) LOG(INFO) Adding meta_piece: <sys>\n",
      "trainer_interface.cc(427) LOG(INFO) Adding meta_piece: <sep>\n",
      "trainer_interface.cc(432) LOG(INFO) Normalizing sentences...\n",
      "trainer_interface.cc(541) LOG(INFO) all chars count=280422\n",
      "trainer_interface.cc(552) LOG(INFO) Done: 99.9501% characters are covered.\n",
      "trainer_interface.cc(562) LOG(INFO) Alphabet size=1066\n",
      "trainer_interface.cc(563) LOG(INFO) Final character coverage=0.999501\n",
      "trainer_interface.cc(594) LOG(INFO) Done! preprocessed 18784 sentences.\n",
      "unigram_model_trainer.cc(265) LOG(INFO) Making suffix array...\n",
      "unigram_model_trainer.cc(269) LOG(INFO) Extracting frequent sub strings... node_num=122480\n",
      "unigram_model_trainer.cc(312) LOG(INFO) Initialized 16468 seed sentencepieces\n",
      "trainer_interface.cc(600) LOG(INFO) Tokenizing input sentences with whitespace: 18784\n",
      "trainer_interface.cc(611) LOG(INFO) Done! 19128\n",
      "unigram_model_trainer.cc(602) LOG(INFO) Using 19128 sentences for EM training\n",
      "unigram_model_trainer.cc(618) LOG(INFO) EM sub_iter=0 size=9597 obj=13.3156 num_tokens=41007 num_tokens/piece=4.2729\n",
      "unigram_model_trainer.cc(618) LOG(INFO) EM sub_iter=1 size=8508 obj=12.2298 num_tokens=41099 num_tokens/piece=4.83063\n",
      "trainer_interface.cc(689) LOG(INFO) Saving model: spm_kor.model\n",
      "trainer_interface.cc(701) LOG(INFO) Saving vocabs: spm_kor.vocab\n"
     ]
    }
   ],
   "source": [
    "# --------- 2) SentencePiece (PAD/UNK/BOS/EOS 고정) ----------\n",
    "def train_spm(corpus=\"corpus.txt\", prefix=\"spm_kor\",\n",
    "              try_sizes=(16000,12000,10000,8000,6000,4000),\n",
    "              coverage=0.9995, user_syms=(\"<usr>\",\"<sys>\",\"<sep>\")):\n",
    "    last = None\n",
    "    for vs in try_sizes:\n",
    "        try:\n",
    "            print(f\"[SPM] vocab_size={vs}\")\n",
    "            spm.SentencePieceTrainer.train(\n",
    "                input=corpus, model_prefix=prefix, vocab_size=vs, model_type=\"unigram\",\n",
    "                character_coverage=coverage, input_sentence_size=1_000_000, shuffle_input_sentence=True,\n",
    "                user_defined_symbols=list(user_syms), pad_id=0, unk_id=1, bos_id=2, eos_id=3\n",
    "            )\n",
    "            return f\"{prefix}.model\", f\"{prefix}.vocab\"\n",
    "        except Exception as e:\n",
    "            print(\"  fail:\", e); last = e\n",
    "    raise RuntimeError(last)\n",
    "\n",
    "SPM_MODEL, SPM_VOCAB = train_spm()\n",
    "sp = spm.SentencePieceProcessor(model_file=SPM_MODEL)\n",
    "VOCAB_SIZE = sum(1 for _ in open(SPM_VOCAB, encoding=\"utf-8\"))\n",
    "PAD_ID, UNK_ID, BOS_ID, EOS_ID = sp.pad_id(), sp.unk_id(), sp.bos_id(), sp.eos_id()\n",
    "print(\"IDs:\", dict(PAD=PAD_ID, UNK=UNK_ID, BOS=BOS_ID, EOS=EOS_ID), \"| VOCAB:\", VOCAB_SIZE)"
   ]
  },
  {
   "cell_type": "markdown",
   "id": "cc771f79",
   "metadata": {},
   "source": [
    "# 데이터셋/콜레이트 (길이 일치 보장)"
   ]
  },
  {
   "cell_type": "code",
   "execution_count": 35,
   "id": "fb1e2e2a",
   "metadata": {},
   "outputs": [],
   "source": [
    "# --------- 3) Dataset / Collate (teacher forcing 정렬) ----------\n",
    "class ChatDataset(Dataset):\n",
    "    def __init__(self, csv_path, sp_model, max_len=128):\n",
    "        self.df = pd.read_csv(csv_path)\n",
    "        self.sp = spm.SentencePieceProcessor(model_file=sp_model)\n",
    "        self.max_len = max_len\n",
    "        self.pad_id, self.bos_id, self.eos_id = self.sp.pad_id(), self.sp.bos_id(), self.sp.eos_id()\n",
    "\n",
    "    def __len__(self): return len(self.df)\n",
    "\n",
    "    def __getitem__(self, i):\n",
    "        q, a = self.df.iloc[i][\"Q\"], self.df.iloc[i][\"A\"]\n",
    "        # 인코더 입력: \"<usr> Q <sep> </s>\"\n",
    "        src = self.sp.encode(f\"<usr> {q} <sep>\", out_type=int)[:self.max_len-1] + [self.eos_id]\n",
    "        # 타깃: y + EOS  /  디코더 입력: BOS + y[:-1]\n",
    "        y   = self.sp.encode(a, out_type=int)[:self.max_len-1] + [self.eos_id]\n",
    "        dec = [self.bos_id] + y[:-1]\n",
    "        return torch.tensor(src), torch.tensor(dec), torch.tensor(y)\n",
    "\n",
    "def collate_fn(batch, pad_id=0):\n",
    "    srcs, decs, tgts = zip(*batch)\n",
    "    def pad_to_len(seqs, L):\n",
    "        out = torch.full((len(seqs), L), pad_id, dtype=torch.long)\n",
    "        for i, x in enumerate(seqs): out[i,:min(L, x.size(0))] = x[:L]\n",
    "        return out\n",
    "    src_L = max(x.size(0) for x in srcs)\n",
    "    tgt_L = max(x.size(0) for x in tgts)  # dec/tgt 동일 길이\n",
    "    return pad_to_len(srcs, src_L), pad_to_len(decs, tgt_L), pad_to_len(tgts, tgt_L)"
   ]
  },
  {
   "cell_type": "markdown",
   "id": "3e55d35f",
   "metadata": {},
   "source": [
    "# Step4 — 모델 정의 (Transformer + 위치 인코딩, bool causal mask)"
   ]
  },
  {
   "cell_type": "code",
   "execution_count": 36,
   "id": "5c283130",
   "metadata": {},
   "outputs": [],
   "source": [
    "# --------- 4) 모델 ----------\n",
    "class PositionalEncoding(nn.Module):\n",
    "    def __init__(self, d_model, dropout=0.1, max_len=2048):\n",
    "        super().__init__()\n",
    "        self.dropout = nn.Dropout(dropout)\n",
    "        pos = torch.arange(0, max_len).unsqueeze(1)\n",
    "        div = torch.exp(torch.arange(0, d_model, 2) * (-math.log(10000.0)/d_model))\n",
    "        pe = torch.zeros(max_len, d_model)\n",
    "        pe[:,0::2] = torch.sin(pos*div); pe[:,1::2] = torch.cos(pos*div)\n",
    "        self.register_buffer(\"pe\", pe)\n",
    "    def forward(self, x): return self.dropout(x + self.pe[:x.size(1)])\n",
    "\n",
    "class Seq2SeqTransformer(nn.Module):\n",
    "    def __init__(self, vocab, d_model=256, nhead=4, num_layers=3, dim_ff=1024, dropout=0.1, pad_id=0):\n",
    "        super().__init__()\n",
    "        self.pad_id = pad_id\n",
    "        self.src_emb = nn.Embedding(vocab, d_model, padding_idx=pad_id)\n",
    "        self.tgt_emb = nn.Embedding(vocab, d_model, padding_idx=pad_id)\n",
    "        self.pos = PositionalEncoding(d_model, dropout)\n",
    "        self.tf = nn.Transformer(d_model=d_model, nhead=nhead,\n",
    "                                 num_encoder_layers=num_layers,\n",
    "                                 num_decoder_layers=num_layers,\n",
    "                                 dim_feedforward=dim_ff,\n",
    "                                 dropout=dropout, batch_first=True)\n",
    "        self.lm_head = nn.Linear(d_model, vocab, bias=False)\n",
    "        self.lm_head.weight = self.tgt_emb.weight  # weight tying\n",
    "\n",
    "    def _padmask(self, x): return (x == self.pad_id)\n",
    "    def _causal(self, T, dev): return torch.triu(torch.ones((T,T), dtype=torch.bool, device=dev),1)\n",
    "\n",
    "    def forward(self, src, dec_in):\n",
    "        src_pm = self._padmask(src); tgt_pm = self._padmask(dec_in)\n",
    "        tgt_mask = self._causal(dec_in.size(1), dec_in.device)\n",
    "        src = self.pos(self.src_emb(src)); tgt = self.pos(self.tgt_emb(dec_in))\n",
    "        out = self.tf(src, tgt, src_key_padding_mask=src_pm, tgt_key_padding_mask=tgt_pm, tgt_mask=tgt_mask)\n",
    "        return self.lm_head(out)"
   ]
  },
  {
   "cell_type": "markdown",
   "id": "45a8a186",
   "metadata": {},
   "source": [
    "# 학습 루프 (AMP/Noam/조기중단/학습곡선 플롯)"
   ]
  },
  {
   "cell_type": "code",
   "execution_count": 41,
   "id": "57458305",
   "metadata": {
    "scrolled": true
   },
   "outputs": [
    {
     "name": "stderr",
     "output_type": "stream",
     "text": [
      "/tmp/ipykernel_928/1750544738.py:12: FutureWarning: `torch.cuda.amp.GradScaler(args...)` is deprecated. Please use `torch.amp.GradScaler('cuda', args...)` instead.\n",
      "  scaler = torch.cuda.amp.GradScaler(enabled=USE_AMP)\n"
     ]
    },
    {
     "name": "stdout",
     "output_type": "stream",
     "text": [
      "[Sanity] initial loss=92.206 vs log(V)≈8.99\n"
     ]
    },
    {
     "name": "stderr",
     "output_type": "stream",
     "text": [
      "Train 1:   0%|          | 0/147 [00:00<?, ?it/s]/tmp/ipykernel_928/1750544738.py:34: FutureWarning: `torch.cuda.amp.autocast(args...)` is deprecated. Please use `torch.amp.autocast('cuda', args...)` instead.\n",
      "  with torch.cuda.amp.autocast(enabled=USE_AMP):\n",
      "Train 1: 100%|██████████| 147/147 [00:05<00:00, 27.10it/s]\n",
      "Valid 1:   0%|          | 0/19 [00:00<?, ?it/s]/tmp/ipykernel_928/1750544738.py:47: FutureWarning: `torch.cuda.amp.autocast(args...)` is deprecated. Please use `torch.amp.autocast('cuda', args...)` instead.\n",
      "  with torch.cuda.amp.autocast(enabled=USE_AMP):\n",
      "Valid 1: 100%|██████████| 19/19 [00:00<00:00, 57.41it/s]\n"
     ]
    },
    {
     "name": "stdout",
     "output_type": "stream",
     "text": [
      "[1] train=24.349 | valid=14.284 | ppl=1598101.07\n",
      "  -> saved\n"
     ]
    },
    {
     "name": "stderr",
     "output_type": "stream",
     "text": [
      "Train 2: 100%|██████████| 147/147 [00:05<00:00, 27.35it/s]\n",
      "Valid 2: 100%|██████████| 19/19 [00:00<00:00, 62.17it/s]\n"
     ]
    },
    {
     "name": "stdout",
     "output_type": "stream",
     "text": [
      "[2] train=13.910 | valid=11.016 | ppl=60839.79\n",
      "  -> saved\n"
     ]
    },
    {
     "name": "stderr",
     "output_type": "stream",
     "text": [
      "Train 3: 100%|██████████| 147/147 [00:05<00:00, 26.14it/s]\n",
      "Valid 3: 100%|██████████| 19/19 [00:00<00:00, 61.05it/s]\n"
     ]
    },
    {
     "name": "stdout",
     "output_type": "stream",
     "text": [
      "[3] train=11.003 | valid=9.177 | ppl=9674.45\n",
      "  -> saved\n"
     ]
    },
    {
     "name": "stderr",
     "output_type": "stream",
     "text": [
      "Train 4: 100%|██████████| 147/147 [00:05<00:00, 26.16it/s]\n",
      "Valid 4: 100%|██████████| 19/19 [00:00<00:00, 61.77it/s]\n"
     ]
    },
    {
     "name": "stdout",
     "output_type": "stream",
     "text": [
      "[4] train=9.264 | valid=8.046 | ppl=3120.00\n",
      "  -> saved\n"
     ]
    },
    {
     "name": "stderr",
     "output_type": "stream",
     "text": [
      "Train 5: 100%|██████████| 147/147 [00:05<00:00, 26.20it/s]\n",
      "Valid 5: 100%|██████████| 19/19 [00:00<00:00, 58.58it/s]\n"
     ]
    },
    {
     "name": "stdout",
     "output_type": "stream",
     "text": [
      "[5] train=8.087 | valid=7.168 | ppl=1297.84\n",
      "  -> saved\n"
     ]
    },
    {
     "name": "stderr",
     "output_type": "stream",
     "text": [
      "Train 6: 100%|██████████| 147/147 [00:05<00:00, 26.03it/s]\n",
      "Valid 6: 100%|██████████| 19/19 [00:00<00:00, 63.13it/s]\n"
     ]
    },
    {
     "name": "stdout",
     "output_type": "stream",
     "text": [
      "[6] train=7.222 | valid=6.554 | ppl=702.30\n",
      "  -> saved\n"
     ]
    },
    {
     "name": "stderr",
     "output_type": "stream",
     "text": [
      "Train 7: 100%|██████████| 147/147 [00:05<00:00, 26.27it/s]\n",
      "Valid 7: 100%|██████████| 19/19 [00:00<00:00, 61.45it/s]\n"
     ]
    },
    {
     "name": "stdout",
     "output_type": "stream",
     "text": [
      "[7] train=6.573 | valid=6.077 | ppl=435.83\n",
      "  -> saved\n"
     ]
    },
    {
     "name": "stderr",
     "output_type": "stream",
     "text": [
      "Train 8: 100%|██████████| 147/147 [00:05<00:00, 25.89it/s]\n",
      "Valid 8: 100%|██████████| 19/19 [00:00<00:00, 62.34it/s]\n"
     ]
    },
    {
     "name": "stdout",
     "output_type": "stream",
     "text": [
      "[8] train=6.055 | valid=5.731 | ppl=308.33\n",
      "  -> saved\n"
     ]
    },
    {
     "name": "stderr",
     "output_type": "stream",
     "text": [
      "Train 9: 100%|██████████| 147/147 [00:05<00:00, 25.27it/s]\n",
      "Valid 9: 100%|██████████| 19/19 [00:00<00:00, 60.54it/s]\n"
     ]
    },
    {
     "name": "stdout",
     "output_type": "stream",
     "text": [
      "[9] train=5.641 | valid=5.411 | ppl=223.85\n",
      "  -> saved\n"
     ]
    },
    {
     "name": "stderr",
     "output_type": "stream",
     "text": [
      "Train 10: 100%|██████████| 147/147 [00:05<00:00, 25.64it/s]\n",
      "Valid 10: 100%|██████████| 19/19 [00:00<00:00, 62.30it/s]\n"
     ]
    },
    {
     "name": "stdout",
     "output_type": "stream",
     "text": [
      "[10] train=5.277 | valid=5.176 | ppl=177.02\n",
      "  -> saved\n"
     ]
    },
    {
     "name": "stderr",
     "output_type": "stream",
     "text": [
      "Train 11: 100%|██████████| 147/147 [00:05<00:00, 25.04it/s]\n",
      "Valid 11: 100%|██████████| 19/19 [00:00<00:00, 51.92it/s]\n"
     ]
    },
    {
     "name": "stdout",
     "output_type": "stream",
     "text": [
      "[11] train=4.959 | valid=4.935 | ppl=139.05\n",
      "  -> saved\n"
     ]
    },
    {
     "name": "stderr",
     "output_type": "stream",
     "text": [
      "Train 12: 100%|██████████| 147/147 [00:05<00:00, 25.37it/s]\n",
      "Valid 12: 100%|██████████| 19/19 [00:00<00:00, 56.23it/s]\n"
     ]
    },
    {
     "name": "stdout",
     "output_type": "stream",
     "text": [
      "[12] train=4.682 | valid=4.784 | ppl=119.54\n",
      "  -> saved\n"
     ]
    },
    {
     "name": "stderr",
     "output_type": "stream",
     "text": [
      "Train 13: 100%|██████████| 147/147 [00:05<00:00, 25.46it/s]\n",
      "Valid 13: 100%|██████████| 19/19 [00:00<00:00, 64.21it/s]\n"
     ]
    },
    {
     "name": "stdout",
     "output_type": "stream",
     "text": [
      "[13] train=4.434 | valid=4.642 | ppl=103.80\n",
      "  -> saved\n"
     ]
    },
    {
     "name": "stderr",
     "output_type": "stream",
     "text": [
      "Train 14: 100%|██████████| 147/147 [00:05<00:00, 25.75it/s]\n",
      "Valid 14: 100%|██████████| 19/19 [00:00<00:00, 61.16it/s]\n"
     ]
    },
    {
     "name": "stdout",
     "output_type": "stream",
     "text": [
      "[14] train=4.215 | valid=4.557 | ppl=95.31\n",
      "  -> saved\n"
     ]
    },
    {
     "name": "stderr",
     "output_type": "stream",
     "text": [
      "Train 15: 100%|██████████| 147/147 [00:05<00:00, 25.24it/s]\n",
      "Valid 15: 100%|██████████| 19/19 [00:00<00:00, 56.35it/s]\n"
     ]
    },
    {
     "name": "stdout",
     "output_type": "stream",
     "text": [
      "[15] train=4.003 | valid=4.506 | ppl=90.59\n",
      "  -> saved\n"
     ]
    },
    {
     "name": "stderr",
     "output_type": "stream",
     "text": [
      "Train 16: 100%|██████████| 147/147 [00:05<00:00, 25.76it/s]\n",
      "Valid 16: 100%|██████████| 19/19 [00:00<00:00, 58.35it/s]\n"
     ]
    },
    {
     "name": "stdout",
     "output_type": "stream",
     "text": [
      "[16] train=3.884 | valid=4.460 | ppl=86.52\n",
      "  -> saved\n"
     ]
    },
    {
     "name": "stderr",
     "output_type": "stream",
     "text": [
      "Train 17: 100%|██████████| 147/147 [00:05<00:00, 25.42it/s]\n",
      "Valid 17: 100%|██████████| 19/19 [00:00<00:00, 62.29it/s]\n"
     ]
    },
    {
     "name": "stdout",
     "output_type": "stream",
     "text": [
      "[17] train=3.749 | valid=4.405 | ppl=81.85\n",
      "  -> saved\n"
     ]
    },
    {
     "name": "stderr",
     "output_type": "stream",
     "text": [
      "Train 18: 100%|██████████| 147/147 [00:05<00:00, 27.02it/s]\n",
      "Valid 18: 100%|██████████| 19/19 [00:00<00:00, 62.03it/s]\n"
     ]
    },
    {
     "name": "stdout",
     "output_type": "stream",
     "text": [
      "[18] train=3.604 | valid=4.477 | ppl=88.01\n"
     ]
    },
    {
     "name": "stderr",
     "output_type": "stream",
     "text": [
      "Train 19: 100%|██████████| 147/147 [00:05<00:00, 26.08it/s]\n",
      "Valid 19: 100%|██████████| 19/19 [00:00<00:00, 58.54it/s]\n"
     ]
    },
    {
     "name": "stdout",
     "output_type": "stream",
     "text": [
      "[19] train=3.479 | valid=4.411 | ppl=82.38\n"
     ]
    },
    {
     "name": "stderr",
     "output_type": "stream",
     "text": [
      "Train 20: 100%|██████████| 147/147 [00:05<00:00, 27.29it/s]\n",
      "Valid 20: 100%|██████████| 19/19 [00:00<00:00, 55.08it/s]\n"
     ]
    },
    {
     "name": "stdout",
     "output_type": "stream",
     "text": [
      "[20] train=3.360 | valid=4.361 | ppl=78.32\n",
      "  -> saved\n",
      "Time: 2.0 min\n"
     ]
    },
    {
     "data": {
      "image/png": "[encoded data removed]",
      "text/plain": [
       "<Figure size 640x480 with 1 Axes>"
      ]
     },
     "metadata": {},
     "output_type": "display_data"
    },
    {
     "data": {
      "image/png": "[encoded data removed]",
      "text/plain": [
       "<Figure size 640x480 with 1 Axes>"
      ]
     },
     "metadata": {},
     "output_type": "display_data"
    }
   ],
   "source": [
    "# --------- 5) 학습(고정 LR / AMP 선택) + sanity check ----------\n",
    "train_ds = ChatDataset(\"train_pairs.csv\", SPM_MODEL, 128)\n",
    "valid_ds = ChatDataset(\"valid_pairs.csv\", SPM_MODEL, 128)\n",
    "train_dl = DataLoader(train_ds, batch_size=64, shuffle=True,  collate_fn=lambda b: collate_fn(b, PAD_ID))\n",
    "valid_dl = DataLoader(valid_ds, batch_size=64, shuffle=False, collate_fn=lambda b: collate_fn(b, PAD_ID))\n",
    "\n",
    "model = Seq2SeqTransformer(\n",
    "    VOCAB_SIZE, d_model=256, nhead=4, num_layers=3, dim_ff=1024,\n",
    "    dropout=0.2, pad_id=PAD_ID\n",
    ").to(DEVICE)\n",
    "criterion = nn.CrossEntropyLoss(ignore_index=PAD_ID, label_smoothing=0.1)\n",
    "optimizer = torch.optim.AdamW(model.parameters(), lr=5e-4, betas=(0.9,0.98), weight_decay=0.01)\n",
    "\n",
    "USE_AMP = (DEVICE==\"cuda\")\n",
    "scaler = torch.cuda.amp.GradScaler(enabled=USE_AMP)\n",
    "\n",
    "# ---- Sanity check: 초기 손실이 log(V) 근처(≈8~10)인지 검사 ----\n",
    "model.eval()\n",
    "with torch.no_grad():\n",
    "    src, dec, tgt = next(iter(train_dl))\n",
    "    src, dec, tgt = src.to(DEVICE), dec.to(DEVICE), tgt.to(DEVICE)\n",
    "    logits = model(src, dec)\n",
    "    init_loss = F.cross_entropy(logits.reshape(-1, logits.size(-1)), tgt.reshape(-1), ignore_index=PAD_ID)\n",
    "    print(f\"[Sanity] initial loss={init_loss.item():.3f} vs log(V)≈{math.log(VOCAB_SIZE):.2f}\")\n",
    "\n",
    "# ---- Train loop ----\n",
    "EPOCHS, GRAD_CLIP, PATIENCE = 20, 1.0, 3\n",
    "best = float(\"inf\"); noimp = 0\n",
    "hist = {\"train\":[], \"valid\":[], \"ppl\":[]}\n",
    "t0 = time.time()\n",
    "\n",
    "for ep in range(1, EPOCHS+1):\n",
    "    model.train(); tot=cnt=0\n",
    "    for src, dec, tgt in tqdm(train_dl, desc=f\"Train {ep}\"):\n",
    "        src, dec, tgt = src.to(DEVICE), dec.to(DEVICE), tgt.to(DEVICE)\n",
    "        optimizer.zero_grad(set_to_none=True)\n",
    "        with torch.cuda.amp.autocast(enabled=USE_AMP):\n",
    "            logits = model(src, dec)                           # (B,T,V)\n",
    "            loss = criterion(logits.reshape(-1, logits.size(-1)), tgt.reshape(-1))\n",
    "        scaler.scale(loss).backward()\n",
    "        torch.nn.utils.clip_grad_norm_(model.parameters(), GRAD_CLIP)\n",
    "        scaler.step(optimizer); scaler.update()\n",
    "        tot += loss.item(); cnt += 1\n",
    "    tr = tot/max(1,cnt); hist[\"train\"].append(tr)\n",
    "\n",
    "    model.eval(); vtot=vcnt=0\n",
    "    with torch.no_grad():\n",
    "        for src, dec, tgt in tqdm(valid_dl, desc=f\"Valid {ep}\"):\n",
    "            src, dec, tgt = src.to(DEVICE), dec.to(DEVICE), tgt.to(DEVICE)\n",
    "            with torch.cuda.amp.autocast(enabled=USE_AMP):\n",
    "                logits = model(src, dec)\n",
    "                vl = criterion(logits.reshape(-1, logits.size(-1)), tgt.reshape(-1))\n",
    "            vtot += vl.item(); vcnt += 1\n",
    "    va = vtot/max(1,vcnt); ppl = math.exp(va)\n",
    "    hist[\"valid\"].append(va); hist[\"ppl\"].append(ppl)\n",
    "    print(f\"[{ep}] train={tr:.3f} | valid={va:.3f} | ppl={ppl:.2f}\")\n",
    "\n",
    "    if va < best:\n",
    "        best, noimp = va, 0\n",
    "        torch.save(model.state_dict(), \"tf_chat_best.pt\")\n",
    "        print(\"  -> saved\")\n",
    "    else:\n",
    "        noimp += 1\n",
    "        if noimp >= PATIENCE:\n",
    "            print(\"Early stopping.\"); break\n",
    "\n",
    "print(f\"Time: {(time.time()-t0)/60:.1f} min\")\n",
    "\n",
    "plt.figure(); plt.plot(hist[\"train\"],label=\"train\"); plt.plot(hist[\"valid\"],label=\"valid\")\n",
    "plt.title(\"Loss over epochs\"); plt.xlabel(\"Epoch\"); plt.ylabel(\"Loss\"); plt.legend(); plt.show()\n",
    "plt.figure(); plt.plot(hist[\"ppl\"]); plt.title(\"Validation PPL\"); plt.xlabel(\"Epoch\"); plt.ylabel(\"PPL\"); plt.show()"
   ]
  },
  {
   "cell_type": "markdown",
   "id": "c96ea2ae",
   "metadata": {},
   "source": [
    "# Step 5: 추론 함수 (Greedy / Top-k·Top-p, 문맥 옵션)"
   ]
  },
  {
   "cell_type": "code",
   "execution_count": 43,
   "id": "b7ce51aa",
   "metadata": {
    "scrolled": true
   },
   "outputs": [
    {
     "name": "stdout",
     "output_type": "stream",
     "text": [
      "                                     Q                A (model)  \\\n",
      "0                              썸인지 헷갈려           그런 사람도 연락해보세요.   \n",
      "1                         주말에 뭐 하고 놀까?                 항상시 대겠죠.   \n",
      "2                      긴 시간이 걸렸지만 괜찮아.            잘 지내고 있을 거예요.   \n",
      "3                    장난인지 진심인지 구분이 안돼.                 제가 있잖아요.   \n",
      "4                     갑자기 나쁜 생각이 막 들더라             좋은 생각을 해보세요.   \n",
      "5                              덕질 하는 중                좋은 소식이네요.   \n",
      "6                           이대로 이별이겠죠?                 제가 있잖아요.   \n",
      "7                오늘 짝녀 만나기로 했는데 옷이 없네.                    잘했어요.   \n",
      "8        남자들 직장 내에서 좋아하는 여자 있으면 어떻게 해?                 제가 있잖아요.   \n",
      "9                            아침부터 답답하네                좋은 소식이네요.   \n",
      "10                            지옥같은 주말.             그런 날이 있더라고요.   \n",
      "11              짝남한테 크리스마스 선물할건데 추천 좀.                 제가 있잖아요.   \n",
      "12                      저 사람이 왜 자꾸 볼까?                 제가 있잖아요.   \n",
      "13                    평생하고 싶은거 찾아야 할텐데             좀 더 일찍 주무세요.   \n",
      "14  좋아하는 여자애한테 어떻게 하면 좋은 인상을 남길 수 있을까?  좋아하는 마음을고 더 좋은 사람 만나세요.   \n",
      "15                           또 하루가 간다.                 제가 있잖아요.   \n",
      "16                         이모티콘 기간 끝났어                 제가 있잖아요.   \n",
      "17                            꽃게탕 맛있다.             좀 더 일찍 주무세요.   \n",
      "18                      어떻게 하면 호감형이 될까                 제가 있잖아요.   \n",
      "19                            나 바뀌고 싶어            잘 지내고 있을 거예요.   \n",
      "\n",
      "                    A (gold)  \n",
      "0      보통 썸이나 사랑은 헷갈리게 안 해요.  \n",
      "1                    저랑 놀아요.  \n",
      "2            괜찮아지고 있어 다행이에요.  \n",
      "3     장난스러운 성격이면 더 헷갈리기도 하죠.  \n",
      "4                좋은 생각만 하세요.  \n",
      "5   좋아하는 게 있는 건 더없이 좋은 일이에요.  \n",
      "6          인연이 거기까지일 수도 있어요.  \n",
      "7       이 김에 하나 장만하는 건 어떨까요.  \n",
      "8               관심을 표현할 거예요.  \n",
      "9      가벼운 운동하면서 기분 전환 해보세요.  \n",
      "10       산책을 하는 것도 좋을 것 같아요.  \n",
      "11                목도리는 어떨까요.  \n",
      "12           혹시 반한 걸 수도 있어요.  \n",
      "13         눈을 감고 곰곰히 생각해보세요.  \n",
      "14       우선 좋아하는 스타일을 알아보세요.  \n",
      "15             다시 아침이 올 거예요.  \n",
      "16          다른 이모티콘을 이용해주세요.  \n",
      "17               기분 좋아 보이세요.  \n",
      "18           진심으로 마음을 전해보세요.  \n",
      "19            긍정적으로 바뀔 수 있어요  \n"
     ]
    }
   ],
   "source": [
    "# --------- 6) 추론 (특수토큰 금지/반복 억제) ----------\n",
    "FORBIDDEN = [sp.piece_to_id(p) for p in (\"<usr>\",\"<sys>\",\"<sep>\") if sp.piece_to_id(p) >= 0]\n",
    "\n",
    "def _enc_src(q, max_len=128):\n",
    "    ids = sp.encode(f\"<usr> {q} <sep>\", out_type=int)[:max_len-1] + [EOS_ID]\n",
    "    return torch.tensor(ids, dtype=torch.long).unsqueeze(0).to(DEVICE)\n",
    "\n",
    "def greedy(q, max_len=48, rep_penalty=1.2):\n",
    "    model.eval(); src=_enc_src(q); dec=torch.tensor([[BOS_ID]],dtype=torch.long,device=DEVICE)\n",
    "    with torch.no_grad():\n",
    "        for _ in range(max_len):\n",
    "            logits = model(src, dec)[:,-1,:]\n",
    "            logits[:, BOS_ID] = -1e9\n",
    "            if FORBIDDEN: logits[:, FORBIDDEN] = -1e9\n",
    "            for t in set(dec[0].tolist()): logits[0,t] /= rep_penalty\n",
    "            nid = int(logits.argmax(-1)); dec=torch.cat([dec, torch.tensor([[nid]],device=DEVICE)],1)\n",
    "            if nid==EOS_ID: break\n",
    "    out=dec[0].tolist()[1:];  out=out[:out.index(EOS_ID)] if EOS_ID in out else out\n",
    "    return sp.decode(out)\n",
    "\n",
    "def preview_table(csv=\"test_pairs.csv\", n=5, seed=9722):\n",
    "    samp = pd.read_csv(csv).sample(n, random_state=seed).reset_index(drop=True)\n",
    "    preds = [greedy(q) for q in samp[\"Q\"].tolist()]\n",
    "    return pd.DataFrame({\"Q\":samp[\"Q\"], \"A (model)\":preds, \"A (gold)\":samp[\"A\"]})\n",
    "\n",
    "print(preview_table(\"test_pairs.csv\", 20, 9722))"
   ]
  },
  {
   "cell_type": "code",
   "execution_count": 46,
   "id": "f5625cd7-eff9-49b1-8513-94d0bbfaf38f",
   "metadata": {},
   "outputs": [
    {
     "data": {
      "text/plain": [
       "'\\n정확도가 높지 않고 맞는 대답처럼 보이기도 하지만 반복되는 답변이 보여서 잘 학습이 되지 않은 것 같다\\n'"
      ]
     },
     "execution_count": 46,
     "metadata": {},
     "output_type": "execute_result"
    }
   ],
   "source": [
    "'''\n",
    "정확도가 높지 않고 맞는 대답처럼 보이기도 하지만 반복되는 답변이 보여서 잘 학습이 되지 않은 것 같다\n",
    "'''"
   ]
  },
  {
   "cell_type": "code",
   "execution_count": null,
   "id": "c08a32d9-f37c-4a19-ad2d-1d7e22845ada",
   "metadata": {},
   "outputs": [],
   "source": []
  }
 ],
 "metadata": {
  "kernelspec": {
   "display_name": "Python 3 (ipykernel)",
   "language": "python",
   "name": "python3"
  },
  "language_info": {
   "codemirror_mode": {
    "name": "ipython",
    "version": 3
   },
   "file_extension": ".py",
   "mimetype": "text/x-python",
   "name": "python",
   "nbconvert_exporter": "python",
   "pygments_lexer": "ipython3",
   "version": "3.12.11"
  }
 },
 "nbformat": 4,
 "nbformat_minor": 5
}
